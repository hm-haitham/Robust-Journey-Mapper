{
 "cells": [
  {
   "cell_type": "markdown",
   "metadata": {},
   "source": [
    "# Homies App UI"
   ]
  },
  {
   "cell_type": "markdown",
   "metadata": {},
   "source": [
    "**In this notebook, we build a simple yet elegant user interface in order to make the user experience more fluid. Run the entire notebook in order to load the data then to display the interactive interface**"
   ]
  },
  {
   "cell_type": "code",
   "execution_count": 1,
   "metadata": {},
   "outputs": [],
   "source": [
    "from hdfs3 import HDFileSystem\n",
    "hdfs = HDFileSystem(host='hdfs://iccluster044.iccluster.epfl.ch', port=8020, user='ebouille')\n",
    "from ipywidgets import interact, interactive, fixed, interact_manual, interactive_output, Layout\n",
    "import ipywidgets as widgets\n",
    "import pandas as pd\n",
    "import numpy as np\n",
    "import datetime\n",
    "import pickle"
   ]
  },
  {
   "cell_type": "markdown",
   "metadata": {},
   "source": [
    "**We create two simple functions in order to read the files previously prepared in final_notebook.ipynb**"
   ]
  },
  {
   "cell_type": "code",
   "execution_count": 2,
   "metadata": {},
   "outputs": [],
   "source": [
    "def read_file(name):\n",
    "    with hdfs.open(name, \"rb\") as f:\n",
    "        x = pickle.load(f)\n",
    "    print('File loaded')\n",
    "    return x\n",
    "def read_df(name):\n",
    "    with hdfs.open(name, \"rb\") as f:\n",
    "        x = pd.read_pickle(f)\n",
    "    print('File loaded')\n",
    "    return x"
   ]
  },
  {
   "cell_type": "markdown",
   "metadata": {},
   "source": [
    "**We load the precomputed data.**"
   ]
  },
  {
   "cell_type": "code",
   "execution_count": 3,
   "metadata": {},
   "outputs": [
    {
     "name": "stdout",
     "output_type": "stream",
     "text": [
      "File loaded\n",
      "File loaded\n",
      "File loaded\n",
      "File loaded\n",
      "File loaded\n",
      "File loaded\n",
      "File loaded\n",
      "File loaded\n",
      "File loaded\n"
     ]
    }
   ],
   "source": [
    "dict_edges_bus = read_file('/user/{}/dict_edges_simple.pkl'.format('kooli'))\n",
    "dict_edges_waiting = read_file('/user/{}/dict_edges_corr.pkl'.format('kooli'))\n",
    "vertices = read_df('/user/{}/pd_vertices.pkl'.format('kooli'))\n",
    "df_index = read_df('/user/{}/df_index.pkl'.format('kooli'))\n",
    "walking_neighbors = read_file('/user/{}/dict_walking_neighbors.pkl'.format('kooli') )\n",
    "dict_walk_time = read_file('/user/{}/dict_walk_time.pkl'.format('kooli'))\n",
    "dict_stop_list_hours =  read_file('/user/{}/dict_stop_list_hours.pkl'.format('kooli'))\n",
    "df_medians = read_df('/user/{}/pd_delay_dist1yearmeanperh.pkl'.format('kooli'))\n",
    "list_station_zurich = read_file('/user/{}/list_stations_zurich.pkl'.format('kooli'))"
   ]
  },
  {
   "cell_type": "markdown",
   "metadata": {},
   "source": [
    "**Oops! We need to modify just a little bit the vertices dataframe but don't worry it is really fast.**"
   ]
  },
  {
   "cell_type": "code",
   "execution_count": 4,
   "metadata": {},
   "outputs": [],
   "source": [
    "vertices['station'] =  vertices.id.map(lambda x :  x.split('_')[0])\n",
    "vertices['time'] = vertices.id.map(lambda x :  x.split('_')[1])\n",
    "vertices['time_formatted'] = vertices.time.map(lambda x : datetime.datetime.strptime('2019-05-13'+' '+x, \"%Y-%m-%d %H:%M:%S\"))"
   ]
  },
  {
   "cell_type": "markdown",
   "metadata": {},
   "source": [
    "**Now let's load functions bfs_homies, get_safe_paths and get_final_output that have been used in final_notebook.ipynb.**\n",
    "**For practicity they have been rewritten to work on Python in utility.py.**"
   ]
  },
  {
   "cell_type": "code",
   "execution_count": 5,
   "metadata": {},
   "outputs": [],
   "source": [
    "from utility import *"
   ]
  },
  {
   "cell_type": "markdown",
   "metadata": {},
   "source": [
    "**The following cell is used to create the user interface with Ipywidgets.**\n",
    "\n",
    "As you can notice the arrival time is bounded between 8:00 and 16:59 and the stops you want find a journey between are expect in ID format.\n",
    "The maximum number of iteration through BFS as been set to 10 in order to have avoid any long calculation but feel free to change it. If it is too low don't worry the algorithm will warn you. \n",
    "The user can specify a minimum number of paths that BFS returns before taking the risk into account. Its default value is 8 but the algorithm might warn you to increase it depending on how much it found.\n",
    "Last but not least, the slider allows you to select the confidence interval you want to filter your journeys on. Notice that in order to avoid the unuseful run of the BFS algorithm, that if you only change the value of the confidence interval the callback search will only call get_safe_paths and get_final_output.\n",
    "Give it a try! Fill the boxes and observe this complex algorithm computes the best journey and displaying them from the latest departure time!"
   ]
  },
  {
   "cell_type": "code",
   "execution_count": 6,
   "metadata": {},
   "outputs": [
    {
     "data": {
      "application/vnd.jupyter.widget-view+json": {
       "model_id": "22530dfcbe10456996cb1f696c1ab8ca",
       "version_major": 2,
       "version_minor": 0
      },
      "text/plain": [
       "VBox(children=(HBox(children=(BoundedIntText(value=15, description='Number maximum of iteration for BFS', layo…"
      ]
     },
     "metadata": {},
     "output_type": "display_data"
    },
    {
     "data": {
      "application/vnd.jupyter.widget-view+json": {
       "model_id": "2ed94bd67928457482319c77a5798879",
       "version_major": 2,
       "version_minor": 0
      },
      "text/plain": [
       "Output()"
      ]
     },
     "metadata": {},
     "output_type": "display_data"
    }
   ],
   "source": [
    "# Wigdets for the selection of the maximum_arrival_time\n",
    "start_hour = widgets.BoundedIntText(value = 12, min = 8, max = 16, step = 1, description = 'Hour:Minute', disabled = False,\\\n",
    "                                    layout = Layout(width = 'auto', height = '30px'))\n",
    "start_minute = widgets.BoundedIntText(value = 30,min = 0,max = 59, step = 1, disabled = False, layout = Layout(width='auto', height='30px'))\n",
    "\n",
    "# Wigdets for the selection of the BFS parameters\n",
    "max_iter = widgets.BoundedIntText(value = 15, min = 5, max = 30, step = 1, description = 'Number maximum of iteration for BFS',\\\n",
    "                                  disabled = False, layout = Layout(width = 'auto', height = '30px'),style = {'description_width': 'initial'})\n",
    "minimum_paths = widgets.BoundedIntText(value = 15, min = 5,max = 50, step = 1, description = 'Minimum paths before taking the risk into account', disabled = False, \\\n",
    "                                       layout = Layout(width = 'auto', height = '30px'),style = {'description_width': 'initial'})\n",
    "\n",
    "# Wigdets for the selection of the stations ID\n",
    "start_stop = widgets.Combobox(value = '8503000', placeholder = 'Select a station', options = list_station_zurich, description = 'From:',\\\n",
    "                              ensure_option = True, disabled = False, layout = Layout(width='19%', height='30px'))\n",
    "end_stop = widgets.Combobox(value = '8591049', placeholder = 'Select a station', options = list_station_zurich, description = 'To:',\\\n",
    "                            ensure_option = True, disabled = False, layout = Layout(width = '19%', height = '30px'))\n",
    "\n",
    "# Wigdets for the selection of the risk you are willing to take\n",
    "conf = widgets.FloatSlider(value=70,min=0,max=100,step=1,description='',disabled=False,\\\n",
    "                             continuous_update=False,orientation='horizontal',readout=True,readout_format='.1f',)\n",
    "\n",
    "# Button widget that call the callback search.\n",
    "valid = widgets.Button(description='Search', disabled=False, button_style='primary',tooltip='Go ahead and click',icon='search')\n",
    "\n",
    "# Specify where the output should appear\n",
    "out = widgets.Output()\n",
    "\n",
    "def search(b):\n",
    "    out.clear_output()\n",
    "    with out:\n",
    "        \n",
    "        # If anything except conf changed rerun the BFS algorithm\n",
    "        if((search.start_hour != start_hour.value) or (search.start_minute != start_minute.value) \\\n",
    "           or (search.start_stop != start_stop.value) or (search.end_stop != end_stop.value) \\\n",
    "           or (search.minimum_paths != minimum_paths.value) or (search.max_iter != max_iter.value)):\n",
    "            \n",
    "            # We save these inputs in the functions in order to check on the next call\n",
    "            search.start_hour, search.start_minute, search.start_stop ,search.end_stop, search.minimum_paths, search.max_iter = start_hour.value, start_minute.value, start_stop.value ,end_stop.value, minimum_paths.value, max_iter.value\n",
    "            \n",
    "            # We make a string with Hour and Minute\n",
    "            search.max_time_arrival = str(search.start_hour) + \":\"+ str(search.start_minute)+ \":00\"\n",
    "            \n",
    "            # We find all possible paths with BFS algorithm\n",
    "            search.true_paths, search.transports = bfs_homies(search.start_stop, search.end_stop, search.max_time_arrival, dict_edges_bus,\n",
    "                                                                dict_edges_waiting, vertices, df_index, walking_neighbors,\n",
    "                                                                   dict_walk_time, dict_stop_list_hours, search.max_iter, search.minimum_paths)\n",
    "\n",
    "        # We find the safe paths within the confidence interval\n",
    "        path_safe , safe_probas = get_safe_paths(search.true_paths, search.transports,search.max_time_arrival,conf.value,df_medians, dict_walk_time)\n",
    "        \n",
    "        print(\"\")\n",
    "        \n",
    "        # We find the message to display\n",
    "        final_output , output_messages = get_final_output(path_safe,safe_probas)\n",
    "        for msg in output_messages:\n",
    "            print(msg)\n",
    "            print(\"\")\n",
    "        \n",
    "# We set the function parameters to 0 to be sure we run BFS for the first call      \n",
    "search.start_hour, search.start_minute, search.start_stop ,search.end_stop, search.minimum_paths, search.max_iter = 0,0,0,0,0,0\n",
    "valid.on_click(search)\n",
    "hbox0 = widgets.HBox([max_iter, minimum_paths])\n",
    "hbox1 = widgets.HBox([widgets.Label(value=\"Arrives at:\", layout=Layout(width='10%', height='30px')), start_hour, start_minute])\n",
    "hbox2 = widgets.HBox([start_stop, end_stop])\n",
    "hbox3 = widgets.HBox([widgets.Label(value='Confidence interval (%) :'),conf, valid])\n",
    "ui = widgets.VBox([hbox0, hbox1, hbox2, hbox3])\n",
    "display(ui, out)"
   ]
  }
 ],
 "metadata": {
  "kernelspec": {
   "display_name": "Python 3",
   "language": "python",
   "name": "python3"
  },
  "language_info": {
   "codemirror_mode": {
    "name": "ipython",
    "version": 3
   },
   "file_extension": ".py",
   "mimetype": "text/x-python",
   "name": "python",
   "nbconvert_exporter": "python",
   "pygments_lexer": "ipython3",
   "version": "3.7.6"
  }
 },
 "nbformat": 4,
 "nbformat_minor": 4
}
